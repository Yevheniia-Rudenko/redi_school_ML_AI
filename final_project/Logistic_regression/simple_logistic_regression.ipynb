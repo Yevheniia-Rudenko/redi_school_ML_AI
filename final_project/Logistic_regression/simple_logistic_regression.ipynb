{
 "cells": [
  {
   "cell_type": "code",
   "execution_count": 1,
   "metadata": {},
   "outputs": [],
   "source": [
    "# Import necessary libraries\n",
    "import pandas as pd\n",
    "import seaborn as sns\n",
    "import matplotlib.pyplot as plt\n",
    "from sklearn.linear_model import LogisticRegression\n",
    "from sklearn.metrics import f1_score, confusion_matrix\n",
    "from sklearn.model_selection import train_test_split\n",
    "from sklearn.impute import SimpleImputer"
   ]
  },
  {
   "cell_type": "code",
   "execution_count": 2,
   "metadata": {},
   "outputs": [],
   "source": [
    "# Load labeled and unlabeled data\n",
    "labeled_data = pd.read_csv(\"/Users/yevrud/redi_school_ML_AI/final_project/data/train.csv\")\n",
    "unlabeled_data = pd.read_csv(\"/Users/yevrud/redi_school_ML_AI/final_project/data/test.csv\")\n",
    "\n",
    "# Create copies of the datasets\n",
    "df_train = labeled_data.copy()\n",
    "df_test = unlabeled_data.copy()\n"
   ]
  },
  {
   "cell_type": "code",
   "execution_count": 3,
   "metadata": {},
   "outputs": [],
   "source": [
    "# Drop confidential columns\n",
    "confidential_cols = ['name', 'email', 'phone-number', 'credit_card', 'id']\n",
    "df_train.drop(columns=confidential_cols, inplace=True)\n",
    "df_test.drop(columns=confidential_cols, inplace=True)"
   ]
  },
  {
   "cell_type": "code",
   "execution_count": 4,
   "metadata": {},
   "outputs": [],
   "source": [
    "# Separate target and features\n",
    "X = df_train.drop(columns=['is_canceled'])\n",
    "y = df_train['is_canceled']\n"
   ]
  },
  {
   "cell_type": "code",
   "execution_count": 5,
   "metadata": {},
   "outputs": [],
   "source": [
    "# Identify feature types\n",
    "numerical_features = X.select_dtypes(include=['int64', 'float64']).columns.tolist()\n",
    "categorical_features = X.select_dtypes(include=['object']).columns.tolist()"
   ]
  },
  {
   "cell_type": "code",
   "execution_count": 6,
   "metadata": {},
   "outputs": [],
   "source": [
    "# Fill missing values\n",
    "num_imputer = SimpleImputer(strategy='median')\n",
    "X[numerical_features] = num_imputer.fit_transform(X[numerical_features])\n",
    "\n",
    "cat_imputer = SimpleImputer(strategy='most_frequent')\n",
    "X[categorical_features] = cat_imputer.fit_transform(X[categorical_features])\n"
   ]
  },
  {
   "cell_type": "code",
   "execution_count": 7,
   "metadata": {},
   "outputs": [],
   "source": [
    "# Apply one-hot encoding to categorical features\n",
    "X = pd.get_dummies(X, columns=categorical_features, drop_first=True)"
   ]
  },
  {
   "cell_type": "code",
   "execution_count": 8,
   "metadata": {},
   "outputs": [],
   "source": [
    "# Split the data\n",
    "X_train, X_temp, y_train, y_temp = train_test_split(X, y, test_size=0.4, stratify=y, random_state=42)\n",
    "X_val, X_test, y_val, y_test = train_test_split(X_temp, y_temp, test_size=0.5, stratify=y_temp, random_state=42)"
   ]
  },
  {
   "cell_type": "code",
   "execution_count": 9,
   "metadata": {},
   "outputs": [
    {
     "name": "stderr",
     "output_type": "stream",
     "text": [
      "/Users/yevrud/redi_school_ML_AI/.venv/lib/python3.13/site-packages/sklearn/linear_model/_logistic.py:465: ConvergenceWarning: lbfgs failed to converge (status=1):\n",
      "STOP: TOTAL NO. OF ITERATIONS REACHED LIMIT.\n",
      "\n",
      "Increase the number of iterations (max_iter) or scale the data as shown in:\n",
      "    https://scikit-learn.org/stable/modules/preprocessing.html\n",
      "Please also refer to the documentation for alternative solver options:\n",
      "    https://scikit-learn.org/stable/modules/linear_model.html#logistic-regression\n",
      "  n_iter_i = _check_optimize_result(\n"
     ]
    },
    {
     "name": "stdout",
     "output_type": "stream",
     "text": [
      "F1 Score: 0.8740\n",
      "Confusion Matrix:\n",
      "[[9451  625]\n",
      " [1001 5638]]\n"
     ]
    }
   ],
   "source": [
    "# Train logistic regression model\n",
    "logreg = LogisticRegression(max_iter=2000, random_state=42)\n",
    "logreg.fit(X_train, y_train)\n",
    "\n",
    "# Predict on test set and evaluate\n",
    "y_pred = logreg.predict(X_test)\n",
    "f1 = f1_score(y_test, y_pred)\n",
    "conf_matrix = confusion_matrix(y_test, y_pred)\n",
    "\n",
    "print(f\"F1 Score: {f1:.4f}\")\n",
    "print(\"Confusion Matrix:\")\n",
    "print(conf_matrix)"
   ]
  },
  {
   "cell_type": "markdown",
   "metadata": {},
   "source": [
    "**Predict on unlabeled data and save predictions**"
   ]
  },
  {
   "cell_type": "code",
   "execution_count": 10,
   "metadata": {},
   "outputs": [
    {
     "name": "stdout",
     "output_type": "stream",
     "text": [
      "Predictions saved to 'simple_unlabeled_predictions.csv'\n"
     ]
    }
   ],
   "source": [
    "# Save the IDs before dropping columns\n",
    "ids = unlabeled_data['id']\n",
    "\n",
    "# Fill missing values in test data\n",
    "df_test[numerical_features] = num_imputer.transform(df_test[numerical_features])\n",
    "df_test[categorical_features] = cat_imputer.transform(df_test[categorical_features])\n",
    "\n",
    "# Apply same one-hot encoding\n",
    "df_test = pd.get_dummies(df_test, columns=categorical_features, drop_first=True)\n",
    "\n",
    "# Align columns with training data\n",
    "df_test = df_test.reindex(columns=X.columns, fill_value=0)\n",
    "\n",
    "# Predict\n",
    "y_unlabeled_pred = logreg.predict(df_test)\n",
    "\n",
    "# Save to CSV\n",
    "output = pd.DataFrame({\n",
    "    \"id\": ids,\n",
    "    \"is_canceled\": y_unlabeled_pred\n",
    "})\n",
    "output.to_csv(\"simple_unlabeled_predictions.csv\", index=False)\n",
    "print(\"Predictions saved to 'simple_unlabeled_predictions.csv'\")"
   ]
  }
 ],
 "metadata": {
  "kernelspec": {
   "display_name": ".venv",
   "language": "python",
   "name": "python3"
  },
  "language_info": {
   "codemirror_mode": {
    "name": "ipython",
    "version": 3
   },
   "file_extension": ".py",
   "mimetype": "text/x-python",
   "name": "python",
   "nbconvert_exporter": "python",
   "pygments_lexer": "ipython3",
   "version": "3.13.0"
  }
 },
 "nbformat": 4,
 "nbformat_minor": 2
}

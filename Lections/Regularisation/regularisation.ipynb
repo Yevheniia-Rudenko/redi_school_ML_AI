{
 "cells": [
  {
   "cell_type": "code",
   "execution_count": 10,
   "metadata": {},
   "outputs": [],
   "source": [
    "from sklearn.linear_model import LinearRegression\n",
    "from sklearn.model_selection import train_test_split\n",
    "import seaborn as sns\n",
    "import pandas as pd\n",
    "import numpy as np\n",
    "from sklearn.model_selection import train_test_split\n",
    "import seaborn as sns "
   ]
  },
  {
   "cell_type": "code",
   "execution_count": 11,
   "metadata": {},
   "outputs": [],
   "source": [
    "def create_a_dataset():\n",
    "    np.random.seed(42)\n",
    "    n_samples = 200\n",
    "\n",
    "    # Independent base features\n",
    "    A = np.random.normal(0, 1, n_samples)\n",
    "    B = np.random.normal(0, 1, n_samples)\n",
    "    C = np.random.normal(0, 1, n_samples)\n",
    "\n",
    "    # Construct features that are combinations but with less obvious pairwise correlation\n",
    "    X1 = A + np.random.normal(0, 1, n_samples)\n",
    "    X2 = B + np.random.normal(0, 1, n_samples)\n",
    "    X3 = C + np.random.normal(0,  1, n_samples)\n",
    "\n",
    "    # Create complex collinearity: X4 ≈ X1 + X2, X5 ≈ X2 + X3, X6 ≈ X1 + X3\n",
    "    X4 = X1 + X2 + np.random.normal(0, 1, n_samples)\n",
    "    X5 = X2 + X3 + np.random.normal(0,  1, n_samples)\n",
    "    X6 = X1 + X3 + np.random.normal(0,  1, n_samples)\n",
    "\n",
    "    # Target depends on X1 and X3\n",
    "    y = X1 +  X3 + np.random.normal(0, 1, n_samples)\n",
    "\n",
    "    # Create DataFrame\n",
    "    dataset = pd.DataFrame({\n",
    "        'X1': X1, 'X2': X2, 'X3': X3,\n",
    "        'X4': X4, 'X5': X5, 'X6': X6,\n",
    "        'y': y\n",
    "    })\n",
    "\n",
    "\n",
    "\n",
    "    # Features (alle Spalten außer der letzten)\n",
    "    X = dataset.iloc[:, :-1]\n",
    "\n",
    "    # Target (die letzte Spalte)\n",
    "    y = dataset.iloc[:, -1]\n",
    "    return X,y\n",
    "X,y = create_a_dataset()\n"
   ]
  },
  {
   "cell_type": "code",
   "execution_count": 12,
   "metadata": {},
   "outputs": [],
   "source": [
    "from sklearn.preprocessing import StandardScaler\n",
    "\n",
    "# Initialize scaler\n",
    "scaler = StandardScaler()\n",
    "\n",
    "# Fit and transform X\n",
    "X = scaler.fit_transform(X)\n",
    "\n",
    "X = pd.DataFrame(X)"
   ]
  },
  {
   "cell_type": "code",
   "execution_count": 13,
   "metadata": {},
   "outputs": [
    {
     "name": "stdout",
     "output_type": "stream",
     "text": [
      "Features to be dropped due to high correlation with other feature: []\n"
     ]
    },
    {
     "data": {
      "image/png": "[encoded data removed]",
      "text/plain": [
       "<Figure size 640x480 with 2 Axes>"
      ]
     },
     "metadata": {},
     "output_type": "display_data"
    }
   ],
   "source": [
    "# preprcess data\n",
    "def multicollinearity_eliminator(numerical_data,threshold = 0.7):\n",
    "        \n",
    "        '''\n",
    "        Remove multicollinearity among the dataset features\n",
    "        \n",
    "        Parameters: \n",
    "        - numerical_data : Numeric features of the dataset\n",
    "        - threshold : the value indicates that if the features are X% correlated, drop them. Can be altered based on the requirements\n",
    "        '''\n",
    "        corr_matrix = numerical_data.corr().abs()\n",
    "        sns.heatmap(corr_matrix,cmap=sns.diverging_palette(230, 20, as_cmap=True),square=True, linewidths=.5, cbar_kws={\"shrink\": .5})\n",
    "        upper = corr_matrix.where(np.triu(np.ones(corr_matrix.shape),k=1).astype(np.bool_))\n",
    "        features_to_drop = [col for col in upper.columns if any(upper[col] >= threshold)]\n",
    "        print(\"Features to be dropped due to high correlation with other feature:\",features_to_drop)\n",
    "        numerical_data = numerical_data.drop(columns=features_to_drop)\n",
    "\n",
    "        return numerical_data\n",
    "\n",
    "X = multicollinearity_eliminator(X.select_dtypes(include=['int64', 'float64']))"
   ]
  },
  {
   "cell_type": "code",
   "execution_count": 14,
   "metadata": {},
   "outputs": [],
   "source": [
    "X_train, X_test, y_train, y_test = train_test_split(X, y, test_size=0.25, random_state=0)"
   ]
  },
  {
   "cell_type": "code",
   "execution_count": null,
   "metadata": {},
   "outputs": [
    {
     "name": "stdout",
     "output_type": "stream",
     "text": [
      "Linear Regression - Training MSE: 0.8563\n",
      "Linear Regression - Test MSE:     1.306368\n"
     ]
    }
   ],
   "source": [
    "# Train a simple normal Linear Regression Model\n",
    "from sklearn.metrics import mean_squared_error\n",
    "\n",
    "lr = LinearRegression().fit(X_train, y_train)\n",
    "\n",
    "\n",
    "y_train_pred = lr.predict(X_train)\n",
    "y_test_pred = lr.predict(X_test)\n",
    "\n",
    "print(f\"Linear Regression - Training MSE: {mean_squared_error(y_train, y_train_pred):.4f}\")\n",
    "print(f\"Linear Regression - Test MSE:     {mean_squared_error(y_test, y_test_pred):4f}\")"
   ]
  },
  {
   "cell_type": "markdown",
   "metadata": {},
   "source": [
    "We have overfitting as MSE is much higher on test"
   ]
  },
  {
   "cell_type": "code",
   "execution_count": 25,
   "metadata": {},
   "outputs": [
    {
     "name": "stdout",
     "output_type": "stream",
     "text": [
      "Ridge Regression - Training MSE: 0.8579\n",
      "Ridge Regression - Test MSE:     1.2753\n"
     ]
    }
   ],
   "source": [
    "from sklearn.linear_model import Ridge\n",
    "\n",
    "ridge = Ridge(alpha=1).fit(X_train, y_train)\n",
    "\n",
    "y_train_pred = ridge.predict(X_train)\n",
    "y_test_pred = ridge.predict(X_test)\n",
    "\n",
    "\n",
    "\n",
    "print(f\"Ridge Regression - Training MSE: {mean_squared_error(y_train, y_train_pred):.4f}\")\n",
    "print(f\"Ridge Regression - Test MSE:     {mean_squared_error(y_test, y_test_pred):.4f}\")"
   ]
  },
  {
   "cell_type": "markdown",
   "metadata": {},
   "source": [
    "A ridge regression with alpha/lambda reduces overfitting and improves quality on test.\n",
    "\n",
    "But which alpha is the best?"
   ]
  },
  {
   "cell_type": "markdown",
   "metadata": {},
   "source": [
    "### 🧠 **What the next Code Does**\n",
    "\n",
    "In this code, we apply **Ridge Regression** (a regularized form of linear regression) to a small dataset in order to prevent overfitting. We:\n",
    "\n",
    "1. Use **5-fold cross-validation** to evaluate model performance for different values of the regularization parameter `alpha`.\n",
    "2. For each alpha, we calculate the **Mean Squared Error (MSE)** on the validation fold and store the results.\n",
    "3. After testing all alpha values, we select the one with the **lowest average MSE** across folds.\n",
    "4. Finally, we train a Ridge model on the **entire training set using the best alpha from cross validation**, make predictions, and evaluate its performance on both training and test data.\n"
   ]
  },
  {
   "cell_type": "code",
   "execution_count": 23,
   "metadata": {},
   "outputs": [
    {
     "name": "stdout",
     "output_type": "stream",
     "text": [
      "Cross-validation results for each alpha and fold:\n",
      "    alpha  fold       mse\n",
      "0    0.01     1  1.282890\n",
      "1    0.01     2  1.087608\n",
      "2    0.01     3  0.883461\n",
      "3    0.01     4  0.657579\n",
      "4    0.01     5  0.877125\n",
      "..    ...   ...       ...\n",
      "60  50.00     1  1.147454\n",
      "61  50.00     2  1.419053\n",
      "62  50.00     3  1.534254\n",
      "63  50.00     4  0.774231\n",
      "64  50.00     5  1.030508\n",
      "\n",
      "[65 rows x 3 columns]\n",
      "\n",
      "✅ Best alpha based on average MSE: 1\n",
      "\n",
      "📊 Final Model Performance:\n",
      "Training MSE: 0.8579\n",
      "Test MSE:     1.2753\n"
     ]
    }
   ],
   "source": [
    "import numpy as np\n",
    "import pandas as pd\n",
    "from sklearn.linear_model import Ridge\n",
    "from sklearn.model_selection import KFold\n",
    "from sklearn.metrics import mean_squared_error\n",
    "\n",
    "# Convert DataFrames to NumPy arrays\n",
    "X_array = X_train.values\n",
    "y_array = y_train.values\n",
    "\n",
    "# Define the list of regularization strengths to try\n",
    "alpha_values = [0.01,0.05,0.1, 0.2, 0.5, 0.75, 1, 1.5, 2, 5, 10, 20,50]\n",
    "\n",
    "# Set up 5-fold cross-validation\n",
    "kf = KFold(n_splits=5, shuffle=True, random_state=42)\n",
    "\n",
    "# Store all MSE results and average MSE per alpha\n",
    "cv_results = []\n",
    "average_mse_per_alpha = {}\n",
    "\n",
    "# Loop through each alpha value\n",
    "for alpha in alpha_values:\n",
    "    mse_per_fold = []\n",
    "\n",
    "    # Perform cross-validation\n",
    "    for fold_index, (train_idx, val_idx) in enumerate(kf.split(X_array), start=1):\n",
    "        # Split the data\n",
    "        X_train_fold, X_val_fold = X_array[train_idx], X_array[val_idx]\n",
    "        y_train_fold, y_val_fold = y_array[train_idx], y_array[val_idx]\n",
    "\n",
    "        # Train Ridge Regression model\n",
    "        model = Ridge(alpha=alpha, random_state=42)\n",
    "        model.fit(X_train_fold, y_train_fold)\n",
    "\n",
    "        # Predict and calculate MSE\n",
    "        y_pred_fold = model.predict(X_val_fold)\n",
    "        mse = mean_squared_error(y_val_fold, y_pred_fold)\n",
    "\n",
    "        # Save results\n",
    "        mse_per_fold.append(mse)\n",
    "        cv_results.append({\n",
    "            'alpha': alpha,\n",
    "            'fold': fold_index,\n",
    "            'mse': mse\n",
    "        })\n",
    "\n",
    "    # Compute average MSE for current alpha\n",
    "    average_mse_per_alpha[alpha] = np.mean(mse_per_fold)\n",
    "\n",
    "# Print MSE results for all folds\n",
    "print(\"Cross-validation results for each alpha and fold:\")\n",
    "print(pd.DataFrame(cv_results))\n",
    "\n",
    "# Determine the best alpha (smallest average MSE)\n",
    "best_alpha = min(average_mse_per_alpha, key=average_mse_per_alpha.get)\n",
    "print(f\"\\n✅ Best alpha based on average MSE: {best_alpha}\")\n",
    "\n",
    "# Train final model on full training data with best alpha\n",
    "final_model = Ridge(alpha=best_alpha, random_state=42)\n",
    "final_model.fit(X_train, y_train)\n",
    "\n",
    "# Predict on training and test sets\n",
    "y_train_pred = final_model.predict(X_train)\n",
    "y_test_pred = final_model.predict(X_test)\n",
    "\n",
    "# Show training and test MSE\n",
    "print(f\"\\n📊 Final Model Performance:\")\n",
    "print(f\"Training MSE: {mean_squared_error(y_train, y_train_pred):.4f}\")\n",
    "print(f\"Test MSE:     {mean_squared_error(y_test, y_test_pred):.4f}\")\n"
   ]
  },
  {
   "cell_type": "markdown",
   "metadata": {},
   "source": []
  },
  {
   "cell_type": "markdown",
   "metadata": {},
   "source": [
    "📌 **Observation**: The model's performance changes depending on the train-test split, which is common for small datasets.\n",
    "\n",
    "🏆 **Best Alpha**: Based on the lowest average MSE across folds, the optimal alpha value was **1**.\n",
    "\n",
    "📈 **Final Model Performance**:\n",
    "- **Training MSE**: 0.8579\n",
    "- **Test MSE**: 1.2753\n",
    "\n",
    "This indicates that the model fits the training data reasonably well, and generalizes acceptably to the test set, considering the small sample size. And the MSE is lower with Ridge than with simple linear regression, which means regularisation helps."
   ]
  },
  {
   "cell_type": "code",
   "execution_count": 18,
   "metadata": {},
   "outputs": [
    {
     "name": "stdout",
     "output_type": "stream",
     "text": [
      "Cross-validation results for each alpha and fold:\n",
      "    alpha  fold       mse\n",
      "0    0.01     1  1.174334\n",
      "1    0.01     2  1.075146\n",
      "2    0.01     3  0.913354\n",
      "3    0.01     4  0.641930\n",
      "4    0.01     5  0.881524\n",
      "5    0.05     1  1.080602\n",
      "6    0.05     2  1.082993\n",
      "7    0.05     3  0.992542\n",
      "8    0.05     4  0.574165\n",
      "9    0.05     5  0.885542\n",
      "10   0.10     1  1.095086\n",
      "11   0.10     2  1.130185\n",
      "12   0.10     3  1.060289\n",
      "13   0.10     4  0.567448\n",
      "14   0.10     5  0.886798\n",
      "15   0.20     1  1.141200\n",
      "16   0.20     2  1.255398\n",
      "17   0.20     3  1.237486\n",
      "18   0.20     4  0.582461\n",
      "19   0.20     5  0.920577\n",
      "20   0.50     1  1.664080\n",
      "21   0.50     2  1.909527\n",
      "22   0.50     3  2.102059\n",
      "23   0.50     4  0.889593\n",
      "24   0.50     5  1.375227\n",
      "25   0.75     1  2.511141\n",
      "26   0.75     2  2.697822\n",
      "27   0.75     3  2.718350\n",
      "28   0.75     4  1.329517\n",
      "29   0.75     5  2.066655\n",
      "30   1.00     1  3.130301\n",
      "31   1.00     2  3.241495\n",
      "32   1.00     3  3.092617\n",
      "33   1.00     4  1.606618\n",
      "34   1.00     5  2.508409\n",
      "35   1.50     1  4.745116\n",
      "36   1.50     2  4.708570\n",
      "37   1.50     3  4.231595\n",
      "38   1.50     4  2.629709\n",
      "39   1.50     5  3.692695\n",
      "40   2.00     1  5.371057\n",
      "41   2.00     2  5.400965\n",
      "42   2.00     3  5.011760\n",
      "43   2.00     4  3.490937\n",
      "44   2.00     5  4.497301\n",
      "45   5.00     1  5.371057\n",
      "46   5.00     2  5.400965\n",
      "47   5.00     3  5.011760\n",
      "48   5.00     4  3.490937\n",
      "49   5.00     5  4.497301\n",
      "50  10.00     1  5.371057\n",
      "51  10.00     2  5.400965\n",
      "52  10.00     3  5.011760\n",
      "53  10.00     4  3.490937\n",
      "54  10.00     5  4.497301\n",
      "55  20.00     1  5.371057\n",
      "56  20.00     2  5.400965\n",
      "57  20.00     3  5.011760\n",
      "58  20.00     4  3.490937\n",
      "59  20.00     5  4.497301\n",
      "\n",
      "✅ Best alpha based on average MSE: 0.05\n",
      "\n",
      "📊 Final Model Performance:\n",
      "Training MSE: 0.8815\n",
      "Test MSE:     1.2423\n"
     ]
    }
   ],
   "source": [
    "import numpy as np\n",
    "import pandas as pd\n",
    "from sklearn.linear_model import Lasso, Ridge\n",
    "from sklearn.model_selection import KFold\n",
    "from sklearn.metrics import mean_squared_error\n",
    "\n",
    "# Convert DataFrames to NumPy arrays\n",
    "X_array = X_train.values\n",
    "y_array = y_train.values\n",
    "\n",
    "# Define the list of regularization strengths to try\n",
    "alpha_values = [0.01,0.05,0.1, 0.2, 0.5, 0.75, 1, 1.5, 2, 5, 10, 20]\n",
    "\n",
    "# Set up 5-fold cross-validation\n",
    "kf = KFold(n_splits=5, shuffle=True, random_state=42)\n",
    "\n",
    "# Store all MSE results and average MSE per alpha\n",
    "cv_results = []\n",
    "average_mse_per_alpha = {}\n",
    "\n",
    "# Loop through each alpha value\n",
    "for alpha in alpha_values:\n",
    "    mse_per_fold = []\n",
    "\n",
    "    # Perform cross-validation\n",
    "    for fold_index, (train_idx, val_idx) in enumerate(kf.split(X_array), start=1):\n",
    "        # Split the data\n",
    "        X_train_fold, X_val_fold = X_array[train_idx], X_array[val_idx]\n",
    "        y_train_fold, y_val_fold = y_array[train_idx], y_array[val_idx]\n",
    "\n",
    "        # Train Lasso Regression model\n",
    "        model = Lasso(alpha=alpha, random_state=42)\n",
    "        model.fit(X_train_fold, y_train_fold)\n",
    "\n",
    "        # Predict and calculate MSE\n",
    "        y_pred_fold = model.predict(X_val_fold)\n",
    "        mse = mean_squared_error(y_val_fold, y_pred_fold)\n",
    "\n",
    "        # Save results\n",
    "        mse_per_fold.append(mse)\n",
    "        cv_results.append({\n",
    "            'alpha': alpha,\n",
    "            'fold': fold_index,\n",
    "            'mse': mse\n",
    "        })\n",
    "\n",
    "    # Compute average MSE for current alpha\n",
    "    average_mse_per_alpha[alpha] = np.mean(mse_per_fold)\n",
    "\n",
    "# Print MSE results for all folds\n",
    "print(\"Cross-validation results for each alpha and fold:\")\n",
    "print(pd.DataFrame(cv_results))\n",
    "\n",
    "# Determine the best alpha (smallest average MSE)\n",
    "best_alpha = min(average_mse_per_alpha, key=average_mse_per_alpha.get)\n",
    "print(f\"\\n✅ Best alpha based on average MSE: {best_alpha}\")\n",
    "\n",
    "# Train final model on full training data with best alpha\n",
    "final_model = Lasso(alpha=best_alpha, random_state=42)\n",
    "final_model.fit(X_train, y_train)\n",
    "\n",
    "# Predict on training and test sets\n",
    "y_train_pred = final_model.predict(X_train)\n",
    "y_test_pred = final_model.predict(X_test)\n",
    "\n",
    "# Show training and test MSE\n",
    "print(f\"\\n📊 Final Model Performance:\")\n",
    "print(f\"Training MSE: {mean_squared_error(y_train, y_train_pred):.4f}\")\n",
    "print(f\"Test MSE:     {mean_squared_error(y_test, y_test_pred):.4f}\")"
   ]
  },
  {
   "cell_type": "markdown",
   "metadata": {},
   "source": [
    "| Model            | Best Alpha | Training MSE | Test MSE  |\n",
    "|------------------|------------|--------------|-----------|\n",
    "| Linear Regression| –          | 0.8563       | 1.3064    |\n",
    "| Ridge Regression | 1          | 0.8579       | 1.2753    |\n",
    "| Lasso Regression | 0.05       | 0.8815       | 1.2423    |\n",
    "\n",
    "We could show, that Lasso and Ridge regression help to reduce overfitting and increase the quality of the model. Lasse Alpha= 0.05 is the best model as it jhas the lowest MSE."
   ]
  }
 ],
 "metadata": {
  "kernelspec": {
   "display_name": ".venv",
   "language": "python",
   "name": "python3"
  },
  "language_info": {
   "codemirror_mode": {
    "name": "ipython",
    "version": 3
   },
   "file_extension": ".py",
   "mimetype": "text/x-python",
   "name": "python",
   "nbconvert_exporter": "python",
   "pygments_lexer": "ipython3",
   "version": "3.12.3"
  }
 },
 "nbformat": 4,
 "nbformat_minor": 2
}

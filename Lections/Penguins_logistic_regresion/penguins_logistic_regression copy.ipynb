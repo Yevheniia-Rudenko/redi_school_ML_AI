{
 "cells": [
  {
   "cell_type": "markdown",
   "id": "00acfe23",
   "metadata": {},
   "source": [
    "# 🐧 Logistic Regression with the Penguins Dataset\n",
    "\n",
    "Welcome to today's lab session! 🎉\n",
    "\n",
    "In this notebook, we will:\n",
    "- Perform **Exploratory Data Analysis (EDA)** on the `penguins` dataset 🏝️\n",
    "- Train a **Logistic Regression Model** to predict penguin sex 🐧\n",
    "\n",
    "Let's get started! 🚀"
   ]
  },
  {
   "cell_type": "code",
   "execution_count": null,
   "id": "ae1aeb85",
   "metadata": {},
   "outputs": [],
   "source": [
    "import pandas as pd\n",
    "import seaborn as sns\n",
    "import matplotlib.pyplot as plt\n",
    "from sklearn.model_selection import train_test_split\n",
    "from sklearn.preprocessing import LabelEncoder\n",
    "from sklearn.linear_model import LogisticRegression\n",
    "from sklearn.metrics import accuracy_score, confusion_matrix, classification_report"
   ]
  },
  {
   "cell_type": "code",
   "execution_count": null,
   "id": "cd170d32",
   "metadata": {},
   "outputs": [],
   "source": [
    "# Load the dataset\n",
    "penguins = sns.load_dataset('penguins')\n",
    "penguins.head()  # Display first few rows"
   ]
  },
  {
   "cell_type": "code",
   "execution_count": null,
   "id": "e44bd56a",
   "metadata": {},
   "outputs": [],
   "source": [
    "# Check for missing values\n",
    "penguins.isnull().sum()"
   ]
  },
  {
   "cell_type": "code",
   "execution_count": null,
   "id": "9d798492",
   "metadata": {},
   "outputs": [],
   "source": [
    "# Drop rows with missing values\n",
    "penguins = penguins.dropna()\n",
    "penguins.isnull().sum()  # Verify missing values are gone"
   ]
  },
  {
   "cell_type": "code",
   "execution_count": null,
   "id": "2d7efa6d",
   "metadata": {},
   "outputs": [],
   "source": [
    "# Exploratory Data Analysis (EDA)\n",
    "sns.pairplot(penguins, hue='sex', diag_kind='hist')\n",
    "plt.show()"
   ]
  },
  {
   "cell_type": "markdown",
   "id": "ba6fbfd7",
   "metadata": {},
   "source": [
    "1️⃣ Modify and Expand EDA (15 min)\n",
    "Task: Add at least two more visualizations to explore relationships.\n",
    "\n",
    "Examples:\n",
    "\n",
    "Does body mass vary significantly between species? (Hint: Use sns.boxplot) 📊\n",
    "\n",
    "Do male and female penguins have different bill lengths? (Hint: Try sns.violinplot)\n",
    "\n",
    "Goal: Think critically about which features might be useful for prediction! 🧠"
   ]
  },
  {
   "cell_type": "code",
   "execution_count": null,
   "id": "96e323f6",
   "metadata": {},
   "outputs": [],
   "source": []
  },
  {
   "cell_type": "code",
   "execution_count": null,
   "id": "af2bd86c",
   "metadata": {},
   "outputs": [],
   "source": []
  },
  {
   "cell_type": "code",
   "execution_count": null,
   "id": "f970302c",
   "metadata": {},
   "outputs": [],
   "source": [
    "# Encode categorical variables\n",
    "le = LabelEncoder()\n",
    "penguins['sex'] = le.fit_transform(penguins['sex'])  # Male=1, Female=0\n",
    "penguins = pd.get_dummies(penguins, columns=['species', 'island'], drop_first=True)\n",
    "penguins.head()"
   ]
  },
  {
   "cell_type": "code",
   "execution_count": null,
   "id": "ffa61888",
   "metadata": {},
   "outputs": [],
   "source": [
    "# Split data into training and testing sets\n",
    "X = penguins.drop(columns=['sex'])  # Features\n",
    "y = penguins['sex']  # Target\n",
    "X_train, X_test, y_train, y_test = train_test_split(X, y, test_size=0.2, random_state=42)"
   ]
  },
  {
   "cell_type": "code",
   "execution_count": null,
   "id": "aa332fbe",
   "metadata": {},
   "outputs": [],
   "source": [
    "# Train logistic regression model\n",
    "model = LogisticRegression()\n",
    "model.fit(X_train, y_train)"
   ]
  },
  {
   "cell_type": "code",
   "execution_count": null,
   "id": "fa6a5a0d",
   "metadata": {},
   "outputs": [],
   "source": [
    "# Model evaluation\n",
    "y_pred = model.predict(X_test)\n",
    "print('Accuracy:', accuracy_score(y_test, y_pred))\n",
    "print('Confusion Matrix:\\n', confusion_matrix(y_test, y_pred))\n",
    "print('Classification Report:\\n', classification_report(y_test, y_pred))"
   ]
  },
  {
   "cell_type": "markdown",
   "id": "51ccfd26",
   "metadata": {},
   "source": [
    " 2️⃣ Feature Selection & Engineering (20 min)\n",
    "Task: Try training the logistic regression model with different feature sets:\n",
    "\n",
    "What happens if we remove body mass?\n",
    "\n",
    "Does including island or species improve accuracy?\n",
    "\n",
    "Goal: Understand how feature choices impact model performance! 🚀"
   ]
  },
  {
   "cell_type": "code",
   "execution_count": null,
   "id": "4999ad49",
   "metadata": {},
   "outputs": [],
   "source": []
  },
  {
   "cell_type": "code",
   "execution_count": null,
   "id": "49e6040e",
   "metadata": {},
   "outputs": [],
   "source": []
  },
  {
   "cell_type": "code",
   "execution_count": null,
   "id": "6e840dac",
   "metadata": {},
   "outputs": [],
   "source": []
  },
  {
   "cell_type": "markdown",
   "id": "f20bb4f9",
   "metadata": {},
   "source": [
    "3️⃣ Model Interpretation & Error Analysis (15 min)\n",
    "Task: After training your model, interpret the results:\n",
    "\n",
    "Which features had the most impact? 📊\n",
    "\n",
    "Where did the model make the most mistakes? (Check confusion matrix) 🧐\n",
    "\n",
    "Are male or female penguins harder to classify? Why? 🤔\n",
    "\n",
    "Goal: Move beyond accuracy and think about real-world implications."
   ]
  },
  {
   "cell_type": "markdown",
   "id": "8054acb3",
   "metadata": {},
   "source": [
    "🔹 4️⃣ Challenge: Make a Small Change (Optional, 20 min)\n",
    "Task: Modify the logistic regression model and justify the change:\n",
    "\n",
    "Adjust solver or C parameter and observe the effect. 🛠️\n",
    "(take time to google this to understand further)\n",
    "Change the target variable (e.g., predict species instead of sex).\n",
    "\n",
    "Goal: Get comfortable experimenting and defending your choices! 💡"
   ]
  },
  {
   "cell_type": "code",
   "execution_count": null,
   "id": "8feb27d0",
   "metadata": {},
   "outputs": [],
   "source": []
  },
  {
   "cell_type": "code",
   "execution_count": null,
   "id": "6f4e6698",
   "metadata": {},
   "outputs": [],
   "source": []
  },
  {
   "cell_type": "code",
   "execution_count": null,
   "id": "875b3060",
   "metadata": {},
   "outputs": [],
   "source": []
  },
  {
   "cell_type": "markdown",
   "id": "375cbc30",
   "metadata": {},
   "source": [
    "✅ Final Deliverables\n",
    "At the end of class or as homework, submit to google classroom:\n",
    "\n",
    "A completed notebook with your modifications. 📂\n",
    "\n",
    "A short written reflection answering:\n",
    "\n",
    "What patterns did you find in the data? 🔍\n",
    "\n",
    "What feature(s) were most useful for prediction? 🧩\n",
    "\n",
    "If you could collect one extra feature, what would it be and why? 🤯"
   ]
  }
 ],
 "metadata": {
  "language_info": {
   "name": "python"
  }
 },
 "nbformat": 4,
 "nbformat_minor": 5
}

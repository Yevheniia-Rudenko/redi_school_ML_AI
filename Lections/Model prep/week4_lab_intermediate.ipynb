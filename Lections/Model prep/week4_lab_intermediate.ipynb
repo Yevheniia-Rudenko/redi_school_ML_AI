{
 "cells": [
  {
   "cell_type": "markdown",
   "id": "76f4ae6b",
   "metadata": {},
   "source": [
    "# Week 4 Lab: Model Preparation & Evaluation\n",
    "\n",
    "Welcome to this week's lab on **Model Preparation and Evaluation**. We'll be covering the following key concepts:\n",
    "- Train/Validation/Test Splits\n",
    "- Avoiding Data Leakage\n",
    "- Using Pipelines for cleaner workflows\n",
    "- Model Evaluation Metrics (like MSE and R²)\n",
    "- Hyperparameter Tuning with GridSearchCV\n",
    "\n",
    "---\n",
    "## Part 1: Splitting Data\n",
    "Load the California Housing dataset and create Train/Validation/Test splits."
   ]
  },
  {
   "cell_type": "code",
   "execution_count": null,
   "id": "f9ef351d",
   "metadata": {},
   "outputs": [],
   "source": [
    "from sklearn.datasets import fetch_california_housing\n",
    "from sklearn.model_selection import train_test_split\n",
    "import pandas as pd\n",
    "\n",
    "data = fetch_california_housing(as_frame=True)\n",
    "df = data.frame\n",
    "\n",
    "X = df.drop(columns='MedHouseVal')\n",
    "y = df['MedHouseVal']\n",
    "\n",
    "# TODO: Split into train/val/test (60/20/20)\n",
    "X_temp, X_test, y_temp, y_test = train_test_split(X, y, test_size=0.2, random_state=42)\n",
    "X_train, X_val, y_train, y_val = train_test_split(X_temp, y_temp, test_size=0.25, random_state=42)\n"
   ]
  },
  {
   "cell_type": "markdown",
   "id": "4b012e8a",
   "metadata": {},
   "source": [
    "## Part 2: Spot the Data Leakage\n",
    "Look at this feature set. Can you spot the leaky column?"
   ]
  },
  {
   "cell_type": "code",
   "execution_count": null,
   "id": "ff68c5f7",
   "metadata": {},
   "outputs": [],
   "source": [
    "# Simulate data leakage\n",
    "df['LeakyFeature'] = df['MedHouseVal'] * 12  # Simulated leakage\n",
    "X_leaky = df.drop(columns='MedHouseVal')\n",
    "print(X_leaky.head())"
   ]
  },
  {
   "cell_type": "markdown",
   "id": "91de2eda",
   "metadata": {},
   "source": [
    "**Q: What makes `LeakyFeature` a source of leakage? What could go wrong if it's included in training?**"
   ]
  },
  {
   "cell_type": "markdown",
   "id": "4fa71b6f",
   "metadata": {},
   "source": [
    "## Part 3: Pipeline + Ridge Regression\n",
    "Build a pipeline to standardize the features and apply Ridge regression."
   ]
  },
  {
   "cell_type": "code",
   "execution_count": null,
   "id": "0dcdfc21",
   "metadata": {},
   "outputs": [],
   "source": [
    "from sklearn.pipeline import Pipeline\n",
    "from sklearn.linear_model import Ridge\n",
    "from sklearn.preprocessing import StandardScaler\n",
    "\n",
    "# TODO: Build and fit the pipeline\n",
    "pipeline = Pipeline([\n",
    "    ('scaler', StandardScaler()),\n",
    "    ('ridge', Ridge())\n",
    "])\n",
    "\n",
    "pipeline.fit(X_train, y_train)\n"
   ]
  },
  {
   "cell_type": "markdown",
   "id": "1dd4e930",
   "metadata": {},
   "source": [
    "## Part 4: Evaluate Model on Validation Set"
   ]
  },
  {
   "cell_type": "code",
   "execution_count": null,
   "id": "9eb602fb",
   "metadata": {},
   "outputs": [],
   "source": [
    "from sklearn.metrics import mean_squared_error, r2_score\n",
    "\n",
    "y_pred = pipeline.predict(X_val)\n",
    "print(\"Validation MSE:\", mean_squared_error(y_val, y_pred))\n",
    "print(\"Validation R²:\", r2_score(y_val, y_pred))"
   ]
  },
  {
   "cell_type": "markdown",
   "id": "8925bc8a",
   "metadata": {},
   "source": [
    "## Part 5: Cross-Validation"
   ]
  },
  {
   "cell_type": "code",
   "execution_count": null,
   "id": "794128fe",
   "metadata": {},
   "outputs": [],
   "source": [
    "from sklearn.model_selection import cross_val_score\n",
    "\n",
    "scores = cross_val_score(pipeline, X_train, y_train, cv=5, scoring='r2')\n",
    "print(\"Cross-validated R² scores:\", scores)\n",
    "print(\"Mean R²:\", scores.mean())"
   ]
  },
  {
   "cell_type": "markdown",
   "id": "03ef3b76",
   "metadata": {},
   "source": [
    "## Part 6: GridSearchCV\n",
    "Try optimizing the Ridge regularization parameter."
   ]
  },
  {
   "cell_type": "code",
   "execution_count": null,
   "id": "a48a06fa",
   "metadata": {},
   "outputs": [],
   "source": [
    "from sklearn.model_selection import GridSearchCV\n",
    "\n",
    "param_grid = {'ridge__alpha': [0.01, 0.1, 1.0, 10.0, 100.0]}\n",
    "grid = GridSearchCV(pipeline, param_grid=param_grid, cv=5, scoring='neg_mean_squared_error')\n",
    "grid.fit(X_train, y_train)\n",
    "\n",
    "print(\"Best Parameters:\", grid.best_params_)\n",
    "print(\"Best CV Score (neg MSE):\", grid.best_score_)"
   ]
  }
 ],
 "metadata": {},
 "nbformat": 4,
 "nbformat_minor": 5
}

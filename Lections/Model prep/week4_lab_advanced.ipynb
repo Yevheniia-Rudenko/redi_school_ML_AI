{
 "cells": [
  {
   "cell_type": "markdown",
   "id": "ca8f8384",
   "metadata": {},
   "source": [
    "# Week 4 Lab: Model Preparation & Evaluation\n",
    "\n",
    "Welcome to this week's lab on **Model Preparation and Evaluation**. We'll be covering the following key concepts:\n",
    "- Train/Validation/Test Splits\n",
    "- Avoiding Data Leakage\n",
    "- Using Pipelines for cleaner workflows\n",
    "- Model Evaluation Metrics (like MSE and R²)\n",
    "- Hyperparameter Tuning with GridSearchCV\n",
    "\n",
    "---\n",
    "\n",
    "## Week 4 Challenge Lab\n",
    "\n",
    "This lab is designed to give you more independence in applying what you've learned. You're encouraged to explore, test hypotheses, and compare models. Use the cells and prompts below to guide your process.\n",
    "\n",
    "### Objective:\n",
    "Build and evaluate a regression model using the California Housing dataset. Follow best practices for data preparation and model evaluation.\n"
   ]
  },
  {
   "cell_type": "markdown",
   "id": "fe829e76",
   "metadata": {},
   "source": [
    "## Step 1: Load and Explore the Data\n",
    "Use the California Housing dataset."
   ]
  },
  {
   "cell_type": "code",
   "execution_count": null,
   "id": "283694fb",
   "metadata": {},
   "outputs": [],
   "source": [
    "from sklearn.datasets import fetch_california_housing\n",
    "import pandas as pd\n",
    "\n",
    "data = fetch_california_housing(as_frame=True)\n",
    "df = data.frame\n",
    "df.describe()"
   ]
  },
  {
   "cell_type": "markdown",
   "id": "94b1b768",
   "metadata": {},
   "source": [
    "## Step 2: Train/Validation/Test Split\n",
    "Split the data into 60/20/20 using `train_test_split`."
   ]
  },
  {
   "cell_type": "code",
   "execution_count": null,
   "id": "f1083c25",
   "metadata": {},
   "outputs": [],
   "source": [
    "from sklearn.model_selection import train_test_split\n",
    "\n",
    "X = df.drop(columns='MedHouseVal')\n",
    "y = df['MedHouseVal']\n",
    "\n",
    "# Your split code here\n",
    "X_temp, X_test, y_temp, y_test = train_test_split(X, y, test_size=0.2, random_state=42)\n",
    "X_train, X_val, y_train, y_val = train_test_split(X_temp, y_temp, test_size=0.25, random_state=42)\n"
   ]
  },
  {
   "cell_type": "markdown",
   "id": "9d223716",
   "metadata": {},
   "source": [
    "## Step 3: Choose and Create a Pipeline\n",
    "Try out StandardScaler + Ridge, Lasso, or KNeighborsRegressor. You can also add your own steps."
   ]
  },
  {
   "cell_type": "code",
   "execution_count": null,
   "id": "54d5e063",
   "metadata": {},
   "outputs": [],
   "source": [
    "from sklearn.pipeline import Pipeline\n",
    "from sklearn.preprocessing import StandardScaler\n",
    "from sklearn.linear_model import Ridge, Lasso\n",
    "from sklearn.neighbors import KNeighborsRegressor\n",
    "\n",
    "# Choose one model and build your pipeline\n",
    "pipeline = Pipeline([\n",
    "    ('scaler', StandardScaler()),\n",
    "    ('regressor', Ridge())\n",
    "])\n",
    "\n",
    "pipeline.fit(X_train, y_train)"
   ]
  },
  {
   "cell_type": "markdown",
   "id": "5565b101",
   "metadata": {},
   "source": [
    "## Step 4: Evaluate Your Model\n",
    "Use MSE, R² and any other metric to evaluate on validation set."
   ]
  },
  {
   "cell_type": "code",
   "execution_count": null,
   "id": "97c3436f",
   "metadata": {},
   "outputs": [],
   "source": [
    "from sklearn.metrics import mean_squared_error, r2_score\n",
    "\n",
    "y_pred = pipeline.predict(X_val)\n",
    "print(\"Validation MSE:\", mean_squared_error(y_val, y_pred))\n",
    "print(\"Validation R²:\", r2_score(y_val, y_pred))"
   ]
  },
  {
   "cell_type": "markdown",
   "id": "2b152fd7",
   "metadata": {},
   "source": [
    "## Step 5: Cross-Validation & GridSearchCV"
   ]
  },
  {
   "cell_type": "code",
   "execution_count": null,
   "id": "cc66d7f0",
   "metadata": {},
   "outputs": [],
   "source": [
    "from sklearn.model_selection import GridSearchCV\n",
    "\n",
    "param_grid = {\n",
    "    'regressor__alpha': [0.01, 0.1, 1.0, 10.0]\n",
    "}\n",
    "\n",
    "grid = GridSearchCV(pipeline, param_grid=param_grid, cv=5, scoring='neg_mean_squared_error')\n",
    "grid.fit(X_train, y_train)\n",
    "\n",
    "print(\"Best Parameters:\", grid.best_params_)\n",
    "print(\"Best CV Score (neg MSE):\", grid.best_score_)"
   ]
  },
  {
   "cell_type": "markdown",
   "id": "1e9c7a13",
   "metadata": {},
   "source": [
    "## Step 6: Final Evaluation\n",
    "Evaluate the best model on the test set."
   ]
  },
  {
   "cell_type": "code",
   "execution_count": null,
   "id": "e493a580",
   "metadata": {},
   "outputs": [],
   "source": [
    "final_model = grid.best_estimator_\n",
    "y_test_pred = final_model.predict(X_test)\n",
    "print(\"Test MSE:\", mean_squared_error(y_test, y_test_pred))\n",
    "print(\"Test R²:\", r2_score(y_test, y_test_pred))"
   ]
  },
  {
   "cell_type": "markdown",
   "id": "e1478251",
   "metadata": {},
   "source": [
    "## Step 7: Reflection\n",
    "- What worked well?\n",
    "- What didn't?\n",
    "- How would you improve this pipeline in a production setting?\n",
    "- Try another model and compare!"
   ]
  }
 ],
 "metadata": {},
 "nbformat": 4,
 "nbformat_minor": 5
}

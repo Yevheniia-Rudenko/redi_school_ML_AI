{
 "cells": [
  {
   "cell_type": "markdown",
   "id": "1e4b679a",
   "metadata": {},
   "source": [
    "# Titanic Dataset: Exploratory Data Analysis (EDA)\n",
    "\n",
    "Welcome to the Titanic dataset EDA notebook! In this notebook, you will explore the Titanic dataset, clean the data, and perform some basic visualizations. Follow the instructions in each cell and complete the tasks where needed.\n",
    "\n",
    "Let's get started!"
   ]
  },
  {
   "cell_type": "code",
   "execution_count": null,
   "id": "b49f9bcb",
   "metadata": {},
   "outputs": [],
   "source": [
    "# Task: Import the necessary libraries for data analysis and visualization\n",
    "# Libraries to import: pandas, numpy, matplotlib, seaborn\n",
    "\n",
    "import pandas as pd\n",
    "import numpy as np\n",
    "import matplotlib.pyplot as plt\n",
    "import seaborn as sns\n",
    "%matplotlib inline \n",
    "# Use %matplotlib inline if you are using Jupyter Notebook for inline plotting"
   ]
  },
  {
   "cell_type": "code",
   "execution_count": null,
   "id": "52bbd01a",
   "metadata": {},
   "outputs": [],
   "source": [
    "# Task: Load the Titanic dataset into a pandas DataFrame\n",
    "# You can use 'titanic.csv' if the dataset is available locally or provide a URL to load it.\n",
    "\n",
    "# Example: df = pd.read_csv('titanic.csv')\n",
    "\n",
    "# Load your dataset here\n",
    "df = pd.read_csv('titanic.csv')\n",
    "# or \n",
    "df = sns.load_dataset('titanic')\n",
    "# Preview the first few rows of the dataset using df.head()"
   ]
  },
  {
   "cell_type": "code",
   "execution_count": null,
   "id": "addf558d",
   "metadata": {},
   "outputs": [],
   "source": [
    "# Task: Inspect the dataset to understand its structure\n",
    "# Instructions: Use df.info() to check the data types and non-null values for each column.\n",
    "df.info()\n",
    "# Add df.describe() to get a summary of the numerical features.\n",
    "df.describe()\n",
    "# Inspect data"
   ]
  },
  {
   "cell_type": "code",
   "execution_count": null,
   "id": "68666667",
   "metadata": {},
   "outputs": [],
   "source": [
    "# Task: Check for missing data in the dataset\n",
    "# Instructions: Use isnull().sum() to count missing values per column.\n",
    "\n",
    "# Explore how to handle missing values (fillna or dropna).\n",
    "\n",
    "# Example:\n",
    "df.isnull().sum()\n",
    "\n",
    "# Now handle missing values by either dropping or filling them"
   ]
  },
  {
   "cell_type": "code",
   "execution_count": null,
   "id": "4f887984",
   "metadata": {},
   "outputs": [],
   "source": [
    "# Task: Perform additional data cleaning steps if needed\n",
    "# Instructions: Look for duplicates, adjust data types, and rename columns where necessary.\n",
    "\n",
    "# Remove duplicate rows, if any\n",
    "df.drop_duplicates(inplace=True)\n",
    "\n",
    "# Check if any columns need renaming or converting to appropriate data types\n",
    "# Example: df['column_name'] = df['column_name'].astype('new_dtype') if you need to change the data type of a column\n",
    "# Example: df.rename(columns={'old_name': 'new_name'}, inplace=True) if you need to rename a column"
   ]
  },
  {
   "cell_type": "code",
   "execution_count": null,
   "id": "9fb8bd99",
   "metadata": {},
   "outputs": [],
   "source": [
    "# Task: Generate descriptive statistics for the dataset\n",
    "# Instructions: Use df.describe() to get an overview of the numerical columns.\n",
    "# Use value_counts() for categorical columns to see the distribution of values.\n",
    "\n",
    "# Example:\n",
    "df.describe()\n",
    "\n",
    "# Now calculate statistics for specific columns (e.g., mean, median)\n",
    "df['Age'].mean(), df['Survived'].value_counts()"
   ]
  },
  {
   "cell_type": "code",
   "execution_count": null,
   "id": "47882bfc",
   "metadata": {},
   "outputs": [],
   "source": [
    "# Task: Create visualizations to explore the data\n",
    "# Instructions: Create a bar chart or a histogram to visualize the distribution of certain features.\n",
    "\n",
    "# Example: Use matplotlib or seaborn to plot the distribution of 'Age' or 'Fare'\n",
    "sns.histplot(df['Age'].dropna(), bins=30)\n"
   ]
  },
  {
   "cell_type": "code",
   "execution_count": null,
   "id": "c56cd940",
   "metadata": {},
   "outputs": [],
   "source": [
    "\n",
    "# Now create a bar chart for categorical data such as 'Pclass' or 'Sex'\n",
    "#sns.countplot(x='Pclass', data=df)\n",
    "#sns.barplot(x='Pclass', y='Survived', data=df)"
   ]
  },
  {
   "cell_type": "code",
   "execution_count": null,
   "id": "824bc654",
   "metadata": {},
   "outputs": [],
   "source": [
    "# Task: Explore relationships between variables\n",
    "# Instructions: Create a correlation matrix to see how features are related to each other.\n",
    "# Use a heatmap from seaborn to visualize the correlations.\n",
    "\n",
    "# Example: sns.heatmap(df.corr(), annot=True, cmap='coolwarm')\n",
    "sns.heatmap(df.corr(), annot=True, cmap='coolwarm')\n",
    "\n",
    "# This wont work because we have non-numeric columns in the dataset\n",
    "# We need to convert them to numeric or drop them before creating the correlation\n"
   ]
  },
  {
   "cell_type": "code",
   "execution_count": null,
   "id": "233d6a5f",
   "metadata": {},
   "outputs": [],
   "source": [
    "# Find the non-numeric columns\n",
    "df.select_dtypes(include=['object'])"
   ]
  },
  {
   "cell_type": "code",
   "execution_count": null,
   "id": "3dfc4ee2",
   "metadata": {},
   "outputs": [],
   "source": [
    "# Find the numeric columns\n",
    "df.select_dtypes(include=['int64', 'float64'])"
   ]
  },
  {
   "cell_type": "code",
   "execution_count": null,
   "id": "fa2f00f7",
   "metadata": {},
   "outputs": [],
   "source": [
    "# First we can look at only the numeric columns to see the correlation\n",
    "sns.heatmap(df.select_dtypes(include=['int64', 'float64']).corr(), annot=True, cmap='coolwarm')"
   ]
  },
  {
   "cell_type": "code",
   "execution_count": null,
   "id": "991bc42b",
   "metadata": {},
   "outputs": [],
   "source": [
    "# Now we can convert the non-numeric columns to numeric\n",
    "# using one-hot encoding\n",
    "df_dummies = pd.get_dummies(df , columns=['Sex', 'Embarked'], drop_first=True)"
   ]
  },
  {
   "cell_type": "code",
   "execution_count": null,
   "id": "1ea0fbda",
   "metadata": {},
   "outputs": [],
   "source": [
    "df_dummies.head()"
   ]
  },
  {
   "cell_type": "code",
   "execution_count": null,
   "id": "1d86cb15",
   "metadata": {},
   "outputs": [],
   "source": [
    "# Now we can look at the correlation matrix\n",
    "# But first lets drop the name,cabin  and the ticket column\n",
    "# because they are not useful for the correlation matrix    \n",
    "df_dummies.drop(['Name', 'Ticket','Cabin'], axis=1, inplace=True)\n",
    "\n",
    "sns.heatmap(df_dummies.corr(), annot=True, cmap='coolwarm')"
   ]
  },
  {
   "cell_type": "code",
   "execution_count": null,
   "id": "07811557",
   "metadata": {},
   "outputs": [],
   "source": [
    "# Task: Explore further! \n",
    "# Instructions: Feel free to explore other relationships in the data using scatter plots or other visualizations.\n",
    "\n",
    "# For example, plot 'Fare' vs 'Age' to see if there's any trend:\n",
    "plt.scatter(df['Fare'], df['Age'])\n",
    "\n",
    "# Try exploring any other interesting relationships in the dataset."
   ]
  },
  {
   "cell_type": "code",
   "execution_count": null,
   "id": "3715baa0",
   "metadata": {},
   "outputs": [],
   "source": [
    "# and again using seaborn\n",
    "sns.scatterplot(x='Fare', y='Age', data=df)"
   ]
  },
  {
   "cell_type": "markdown",
   "id": "ee0c29cf",
   "metadata": {},
   "source": [
    "# Task: Summarize your findings\n",
    "Now that you’ve completed the EDA, take a moment to reflect on the key insights you gathered from the Titanic dataset. What interesting patterns did you observe? Are there any obvious outliers or trends?\n",
    "\n",
    "Feel free to add your conclusions here."
   ]
  },
  {
   "cell_type": "markdown",
   "id": "58c81655",
   "metadata": {},
   "source": [
    "1. Seaborn: Includes datasets like tips, iris, titanic, and diamonds.\n",
    "Example: sns.load_dataset('tips')\n",
    "2. Scikit-learn: Offers various datasets such as iris, digits, wine, and breast_cancer.\n",
    "Example: from sklearn.datasets import load_iris"
   ]
  }
 ],
 "metadata": {
  "kernelspec": {
   "display_name": "redi",
   "language": "python",
   "name": "python3"
  },
  "language_info": {
   "codemirror_mode": {
    "name": "ipython",
    "version": 3
   },
   "file_extension": ".py",
   "mimetype": "text/x-python",
   "name": "python",
   "nbconvert_exporter": "python",
   "pygments_lexer": "ipython3",
   "version": "3.12.5"
  }
 },
 "nbformat": 4,
 "nbformat_minor": 5
}

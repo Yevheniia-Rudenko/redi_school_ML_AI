{
 "cells": [
  {
   "cell_type": "code",
   "execution_count": 1,
   "id": "a21be5c6",
   "metadata": {},
   "outputs": [
    {
     "name": "stdout",
     "output_type": "stream",
     "text": [
      "Looking in indexes: https://pypi.org/simple, https://pypi.ngc.nvidia.com\n",
      "Requirement already satisfied: huggingface_hub in c:\\users\\timo\\onedrive\\redi school\\s25\\.venv\\lib\\site-packages (0.31.2)\n",
      "Collecting dotenv\n",
      "  Downloading dotenv-0.9.9-py2.py3-none-any.whl.metadata (279 bytes)\n",
      "Requirement already satisfied: filelock in c:\\users\\timo\\onedrive\\redi school\\s25\\.venv\\lib\\site-packages (from huggingface_hub) (3.18.0)\n",
      "Requirement already satisfied: fsspec>=2023.5.0 in c:\\users\\timo\\onedrive\\redi school\\s25\\.venv\\lib\\site-packages (from huggingface_hub) (2025.3.2)\n",
      "Requirement already satisfied: packaging>=20.9 in c:\\users\\timo\\onedrive\\redi school\\s25\\.venv\\lib\\site-packages (from huggingface_hub) (24.2)\n",
      "Requirement already satisfied: pyyaml>=5.1 in c:\\users\\timo\\onedrive\\redi school\\s25\\.venv\\lib\\site-packages (from huggingface_hub) (6.0.2)\n",
      "Requirement already satisfied: requests in c:\\users\\timo\\onedrive\\redi school\\s25\\.venv\\lib\\site-packages (from huggingface_hub) (2.32.3)\n",
      "Requirement already satisfied: tqdm>=4.42.1 in c:\\users\\timo\\onedrive\\redi school\\s25\\.venv\\lib\\site-packages (from huggingface_hub) (4.67.1)\n",
      "Requirement already satisfied: typing-extensions>=3.7.4.3 in c:\\users\\timo\\onedrive\\redi school\\s25\\.venv\\lib\\site-packages (from huggingface_hub) (4.13.2)\n",
      "Collecting python-dotenv (from dotenv)\n",
      "  Downloading python_dotenv-1.1.0-py3-none-any.whl.metadata (24 kB)\n",
      "Requirement already satisfied: colorama in c:\\users\\timo\\onedrive\\redi school\\s25\\.venv\\lib\\site-packages (from tqdm>=4.42.1->huggingface_hub) (0.4.6)\n",
      "Requirement already satisfied: charset-normalizer<4,>=2 in c:\\users\\timo\\onedrive\\redi school\\s25\\.venv\\lib\\site-packages (from requests->huggingface_hub) (3.4.2)\n",
      "Requirement already satisfied: idna<4,>=2.5 in c:\\users\\timo\\onedrive\\redi school\\s25\\.venv\\lib\\site-packages (from requests->huggingface_hub) (3.10)\n",
      "Requirement already satisfied: urllib3<3,>=1.21.1 in c:\\users\\timo\\onedrive\\redi school\\s25\\.venv\\lib\\site-packages (from requests->huggingface_hub) (2.4.0)\n",
      "Requirement already satisfied: certifi>=2017.4.17 in c:\\users\\timo\\onedrive\\redi school\\s25\\.venv\\lib\\site-packages (from requests->huggingface_hub) (2025.4.26)\n",
      "Downloading dotenv-0.9.9-py2.py3-none-any.whl (1.9 kB)\n",
      "Downloading python_dotenv-1.1.0-py3-none-any.whl (20 kB)\n",
      "Installing collected packages: python-dotenv, dotenv\n",
      "Successfully installed dotenv-0.9.9 python-dotenv-1.1.0\n"
     ]
    },
    {
     "name": "stderr",
     "output_type": "stream",
     "text": [
      "\n",
      "[notice] A new release of pip is available: 25.0.1 -> 25.1.1\n",
      "[notice] To update, run: python.exe -m pip install --upgrade pip\n"
     ]
    }
   ],
   "source": [
    "! pip install huggingface_hub dotenv"
   ]
  },
  {
   "cell_type": "markdown",
   "id": "1ce963da",
   "metadata": {},
   "source": [
    "# Improtant\n",
    "1. Create an acccount at huggingface.co\n",
    "2. Create an access token with the right to make inference calls\n",
    "3. Create an .env file in the root directory of your project with the following content:\n",
    "\n",
    "hf_token=your-huggingface-api-token\n",
    "\n"
   ]
  },
  {
   "cell_type": "markdown",
   "id": "6123afa9",
   "metadata": {},
   "source": [
    "- ⚠️ Make sure to add the .env file to your .gitignore to prevent it from being accidentally committed to version control."
   ]
  },
  {
   "cell_type": "code",
   "execution_count": 34,
   "id": "9439657d",
   "metadata": {},
   "outputs": [
    {
     "name": "stdout",
     "output_type": "stream",
     "text": [
      "The capital of France is Paris.\n"
     ]
    }
   ],
   "source": [
    "import os\n",
    "from dotenv import load_dotenv\n",
    "from huggingface_hub import InferenceClient\n",
    "\n",
    "# Load environment variables from the .env file\n",
    "load_dotenv()\n",
    "\n",
    "# Load the Hugging Face token from .env\n",
    "hf_token = os.getenv('hf_token')\n",
    "\n",
    "if not hf_token:\n",
    "    raise EnvironmentError(\"Hugging Face token (hf_token) is missing in the .env file!\")\n",
    "\n",
    "client = InferenceClient(\n",
    "    provider=\"cerebras\",\n",
    "    api_key=hf_token\n",
    "    )\n",
    "completion = client.chat.completions.create(\n",
    "    model=\"meta-llama/Llama-3.3-70B-Instruct\",\n",
    "    messages=[        {\n",
    "            \"role\": \"user\",\n",
    "            \"content\": \"What is the capital of France?\"\n",
    "        }\n",
    "\n",
    "    ],\n",
    "\n",
    ")\n",
    "\n",
    "print(completion.choices[0].message.content)"
   ]
  },
  {
   "cell_type": "code",
   "execution_count": null,
   "id": "347a285e",
   "metadata": {},
   "outputs": [],
   "source": [
    "from sklearn.metrics import accuracy_score"
   ]
  },
  {
   "cell_type": "code",
   "execution_count": null,
   "id": "b6bb8f3f",
   "metadata": {},
   "outputs": [
    {
     "name": "stdout",
     "output_type": "stream",
     "text": [
      "negative\n",
      "negative\n",
      "positive\n",
      "negative\n",
      "positive\n",
      "negative\n",
      "negative\n",
      "positive\n"
     ]
    },
    {
     "ename": "HfHubHTTPError",
     "evalue": "402 Client Error: Payment Required for url: https://router.huggingface.co/cerebras/v1/chat/completions (Request ID: Root=1-682b5de6-4ddbfddd2b2cd0e151f9871f;a2a9a9b2-16f3-47a4-9216-8321f8df3898)\n\nYou have exceeded your monthly included credits for Inference Providers. Subscribe to PRO to get 20x more monthly included credits.",
     "output_type": "error",
     "traceback": [
      "\u001b[31m---------------------------------------------------------------------------\u001b[39m",
      "\u001b[31mHTTPError\u001b[39m                                 Traceback (most recent call last)",
      "\u001b[36mFile \u001b[39m\u001b[32mc:\\Users\\Timo\\OneDrive\\REDI School\\s25\\.venv\\Lib\\site-packages\\huggingface_hub\\utils\\_http.py:409\u001b[39m, in \u001b[36mhf_raise_for_status\u001b[39m\u001b[34m(response, endpoint_name)\u001b[39m\n\u001b[32m    408\u001b[39m \u001b[38;5;28;01mtry\u001b[39;00m:\n\u001b[32m--> \u001b[39m\u001b[32m409\u001b[39m     \u001b[43mresponse\u001b[49m\u001b[43m.\u001b[49m\u001b[43mraise_for_status\u001b[49m\u001b[43m(\u001b[49m\u001b[43m)\u001b[49m\n\u001b[32m    410\u001b[39m \u001b[38;5;28;01mexcept\u001b[39;00m HTTPError \u001b[38;5;28;01mas\u001b[39;00m e:\n",
      "\u001b[36mFile \u001b[39m\u001b[32mc:\\Users\\Timo\\OneDrive\\REDI School\\s25\\.venv\\Lib\\site-packages\\requests\\models.py:1024\u001b[39m, in \u001b[36mResponse.raise_for_status\u001b[39m\u001b[34m(self)\u001b[39m\n\u001b[32m   1023\u001b[39m \u001b[38;5;28;01mif\u001b[39;00m http_error_msg:\n\u001b[32m-> \u001b[39m\u001b[32m1024\u001b[39m     \u001b[38;5;28;01mraise\u001b[39;00m HTTPError(http_error_msg, response=\u001b[38;5;28mself\u001b[39m)\n",
      "\u001b[31mHTTPError\u001b[39m: 402 Client Error: Payment Required for url: https://router.huggingface.co/cerebras/v1/chat/completions",
      "\nThe above exception was the direct cause of the following exception:\n",
      "\u001b[31mHfHubHTTPError\u001b[39m                            Traceback (most recent call last)",
      "\u001b[36mCell\u001b[39m\u001b[36m \u001b[39m\u001b[32mIn[28]\u001b[39m\u001b[32m, line 49\u001b[39m\n\u001b[32m     47\u001b[39m zero_shot_predictions = []\n\u001b[32m     48\u001b[39m \u001b[38;5;28;01mfor\u001b[39;00m sentence, true_label \u001b[38;5;129;01min\u001b[39;00m sentences:\n\u001b[32m---> \u001b[39m\u001b[32m49\u001b[39m     response = \u001b[43mclient\u001b[49m\u001b[43m.\u001b[49m\u001b[43mchat\u001b[49m\u001b[43m.\u001b[49m\u001b[43mcompletions\u001b[49m\u001b[43m.\u001b[49m\u001b[43mcreate\u001b[49m\u001b[43m(\u001b[49m\n\u001b[32m     50\u001b[39m \u001b[43m        \u001b[49m\u001b[43mmodel\u001b[49m\u001b[43m=\u001b[49m\u001b[33;43m\"\u001b[39;49m\u001b[33;43mmeta-llama/Llama-3.3-70B-Instruct\u001b[39;49m\u001b[33;43m\"\u001b[39;49m\u001b[43m,\u001b[49m\n\u001b[32m     51\u001b[39m \u001b[43m        \u001b[49m\u001b[43mmessages\u001b[49m\u001b[43m=\u001b[49m\u001b[43m[\u001b[49m\u001b[43m{\u001b[49m\u001b[33;43m\"\u001b[39;49m\u001b[33;43mrole\u001b[39;49m\u001b[33;43m\"\u001b[39;49m\u001b[43m:\u001b[49m\u001b[43m \u001b[49m\u001b[33;43m\"\u001b[39;49m\u001b[33;43muser\u001b[39;49m\u001b[33;43m\"\u001b[39;49m\u001b[43m,\u001b[49m\u001b[43m \u001b[49m\u001b[33;43m\"\u001b[39;49m\u001b[33;43mcontent\u001b[39;49m\u001b[33;43m\"\u001b[39;49m\u001b[43m:\u001b[49m\u001b[43m \u001b[49m\u001b[33;43mf\u001b[39;49m\u001b[33;43m\"\u001b[39;49m\u001b[33;43mClassify the sentiment of this sentence as either \u001b[39;49m\u001b[33;43m'\u001b[39;49m\u001b[33;43mpositive\u001b[39;49m\u001b[33;43m'\u001b[39;49m\u001b[33;43m or \u001b[39;49m\u001b[33;43m'\u001b[39;49m\u001b[33;43mnegative\u001b[39;49m\u001b[33;43m'\u001b[39;49m\u001b[33;43m. Dont add anything else. : \u001b[39;49m\u001b[38;5;132;43;01m{\u001b[39;49;00m\u001b[43msentence\u001b[49m\u001b[38;5;132;43;01m}\u001b[39;49;00m\u001b[33;43m\"\u001b[39;49m\u001b[43m}\u001b[49m\u001b[43m]\u001b[49m\n\u001b[32m     52\u001b[39m \u001b[43m    \u001b[49m\u001b[43m)\u001b[49m\n\u001b[32m     53\u001b[39m     prediction = response.choices[\u001b[32m0\u001b[39m].message.content.strip().lower()\n\u001b[32m     54\u001b[39m     zero_shot_predictions.append(prediction)\n",
      "\u001b[36mFile \u001b[39m\u001b[32mc:\\Users\\Timo\\OneDrive\\REDI School\\s25\\.venv\\Lib\\site-packages\\huggingface_hub\\inference\\_client.py:923\u001b[39m, in \u001b[36mInferenceClient.chat_completion\u001b[39m\u001b[34m(self, messages, model, stream, frequency_penalty, logit_bias, logprobs, max_tokens, n, presence_penalty, response_format, seed, stop, stream_options, temperature, tool_choice, tool_prompt, tools, top_logprobs, top_p, extra_body)\u001b[39m\n\u001b[32m    895\u001b[39m parameters = {\n\u001b[32m    896\u001b[39m     \u001b[33m\"\u001b[39m\u001b[33mmodel\u001b[39m\u001b[33m\"\u001b[39m: payload_model,\n\u001b[32m    897\u001b[39m     \u001b[33m\"\u001b[39m\u001b[33mfrequency_penalty\u001b[39m\u001b[33m\"\u001b[39m: frequency_penalty,\n\u001b[32m   (...)\u001b[39m\u001b[32m    914\u001b[39m     **(extra_body \u001b[38;5;129;01mor\u001b[39;00m {}),\n\u001b[32m    915\u001b[39m }\n\u001b[32m    916\u001b[39m request_parameters = provider_helper.prepare_request(\n\u001b[32m    917\u001b[39m     inputs=messages,\n\u001b[32m    918\u001b[39m     parameters=parameters,\n\u001b[32m   (...)\u001b[39m\u001b[32m    921\u001b[39m     api_key=\u001b[38;5;28mself\u001b[39m.token,\n\u001b[32m    922\u001b[39m )\n\u001b[32m--> \u001b[39m\u001b[32m923\u001b[39m data = \u001b[38;5;28;43mself\u001b[39;49m\u001b[43m.\u001b[49m\u001b[43m_inner_post\u001b[49m\u001b[43m(\u001b[49m\u001b[43mrequest_parameters\u001b[49m\u001b[43m,\u001b[49m\u001b[43m \u001b[49m\u001b[43mstream\u001b[49m\u001b[43m=\u001b[49m\u001b[43mstream\u001b[49m\u001b[43m)\u001b[49m\n\u001b[32m    925\u001b[39m \u001b[38;5;28;01mif\u001b[39;00m stream:\n\u001b[32m    926\u001b[39m     \u001b[38;5;28;01mreturn\u001b[39;00m _stream_chat_completion_response(data)  \u001b[38;5;66;03m# type: ignore[arg-type]\u001b[39;00m\n",
      "\u001b[36mFile \u001b[39m\u001b[32mc:\\Users\\Timo\\OneDrive\\REDI School\\s25\\.venv\\Lib\\site-packages\\huggingface_hub\\inference\\_client.py:279\u001b[39m, in \u001b[36mInferenceClient._inner_post\u001b[39m\u001b[34m(self, request_parameters, stream)\u001b[39m\n\u001b[32m    276\u001b[39m         \u001b[38;5;28;01mraise\u001b[39;00m InferenceTimeoutError(\u001b[33mf\u001b[39m\u001b[33m\"\u001b[39m\u001b[33mInference call timed out: \u001b[39m\u001b[38;5;132;01m{\u001b[39;00mrequest_parameters.url\u001b[38;5;132;01m}\u001b[39;00m\u001b[33m\"\u001b[39m) \u001b[38;5;28;01mfrom\u001b[39;00m\u001b[38;5;250m \u001b[39m\u001b[34;01merror\u001b[39;00m  \u001b[38;5;66;03m# type: ignore\u001b[39;00m\n\u001b[32m    278\u001b[39m \u001b[38;5;28;01mtry\u001b[39;00m:\n\u001b[32m--> \u001b[39m\u001b[32m279\u001b[39m     \u001b[43mhf_raise_for_status\u001b[49m\u001b[43m(\u001b[49m\u001b[43mresponse\u001b[49m\u001b[43m)\u001b[49m\n\u001b[32m    280\u001b[39m     \u001b[38;5;28;01mreturn\u001b[39;00m response.iter_lines() \u001b[38;5;28;01mif\u001b[39;00m stream \u001b[38;5;28;01melse\u001b[39;00m response.content\n\u001b[32m    281\u001b[39m \u001b[38;5;28;01mexcept\u001b[39;00m HTTPError \u001b[38;5;28;01mas\u001b[39;00m error:\n",
      "\u001b[36mFile \u001b[39m\u001b[32mc:\\Users\\Timo\\OneDrive\\REDI School\\s25\\.venv\\Lib\\site-packages\\huggingface_hub\\utils\\_http.py:482\u001b[39m, in \u001b[36mhf_raise_for_status\u001b[39m\u001b[34m(response, endpoint_name)\u001b[39m\n\u001b[32m    478\u001b[39m     \u001b[38;5;28;01mraise\u001b[39;00m _format(HfHubHTTPError, message, response) \u001b[38;5;28;01mfrom\u001b[39;00m\u001b[38;5;250m \u001b[39m\u001b[34;01me\u001b[39;00m\n\u001b[32m    480\u001b[39m \u001b[38;5;66;03m# Convert `HTTPError` into a `HfHubHTTPError` to display request information\u001b[39;00m\n\u001b[32m    481\u001b[39m \u001b[38;5;66;03m# as well (request id and/or server error message)\u001b[39;00m\n\u001b[32m--> \u001b[39m\u001b[32m482\u001b[39m \u001b[38;5;28;01mraise\u001b[39;00m _format(HfHubHTTPError, \u001b[38;5;28mstr\u001b[39m(e), response) \u001b[38;5;28;01mfrom\u001b[39;00m\u001b[38;5;250m \u001b[39m\u001b[34;01me\u001b[39;00m\n",
      "\u001b[31mHfHubHTTPError\u001b[39m: 402 Client Error: Payment Required for url: https://router.huggingface.co/cerebras/v1/chat/completions (Request ID: Root=1-682b5de6-4ddbfddd2b2cd0e151f9871f;a2a9a9b2-16f3-47a4-9216-8321f8df3898)\n\nYou have exceeded your monthly included credits for Inference Providers. Subscribe to PRO to get 20x more monthly included credits."
     ]
    }
   ],
   "source": [
    "# Generate a small synthetic sentiment dataset\n",
    "\n",
    "from time import sleep\n",
    "\n",
    "sentences = [\n",
    "    (\"The movie had stunning visuals, but the story left me cold.\", \"negative\"),\n",
    "    (\"I didn't hate the product, but I wouldn't buy it again.\", \"negative\"),\n",
    "    (\"Service was slow, but the staff was really friendly and helpful.\", \"positive\"),\n",
    "    (\"Not the worst experience I've had, but I expected much better.\", \"negative\"),\n",
    "    (\"I thought I’d dislike it, but it surprisingly grew on me.\", \"positive\"),\n",
    "    # (\"The food wasn’t great, but the atmosphere made up for it.\", \"positive\"),\n",
    "    # (\"I wouldn’t say it was terrible, but I certainly wouldn’t recommend it.\", \"negative\"),\n",
    "    # (\"The best part was actually the bad acting — it was so bad it was funny.\", \"positive\"),\n",
    "    # (\"I was excited at first, but the disappointing ending ruined it.\", \"negative\"),\n",
    "    # (\"It’s far from perfect, yet somehow I still enjoyed it.\", \"positive\"),\n",
    "]\n",
    "\n",
    "# Few-shot prompt\n",
    "few_shot_prompt = \"\"\"\n",
    "Classify the sentiment of this sentence as either 'positive' or 'negative'. Dont add anything else. \n",
    "\n",
    "Examples:\n",
    "Sentence: I love this place. Response: positive\n",
    "Sentence: I hate waiting in long lines. Response: negative\n",
    "Sentence: The food was amazing and the service was great. Response: positive\n",
    "Sentence: The product broke after one use. Response: negative\n",
    "\"\"\"\n",
    "\n",
    "# Run few-shot sentiment analysis\n",
    "few_shot_predictions = []\n",
    "labels = []\n",
    "for sentence, true_label in sentences:\n",
    "    labels.append(true_label)\n",
    "    response = client.chat.completions.create(\n",
    "        model=\"meta-llama/Llama-3.3-70B-Instruct\",\n",
    "        messages=[\n",
    "            {\"role\": \"user\",\n",
    "             \"content\": f\"{few_shot_prompt}\\nSentence: {sentence}\"}\n",
    "            ]\n",
    "    )\n",
    "    prediction = response.choices[0].message.content.strip().lower()\n",
    "    few_shot_predictions.append(prediction)\n",
    "\n",
    "    print(prediction)\n",
    "\n",
    "    # wait 5 seconds to not get blocked by api\n",
    "    sleep(5)\n",
    "\n",
    "# Run normal sentiment analysis (zero-shot)\n",
    "zero_shot_predictions = []\n",
    "for sentence, true_label in sentences:\n",
    "    response = client.chat.completions.create(\n",
    "        model=\"meta-llama/Llama-3.3-70B-Instruct\",\n",
    "        messages=[{\"role\": \"user\", \"content\": f\"Classify the sentiment of this sentence as either 'positive' or 'negative'. Dont add anything else. : {sentence}\"}]\n",
    "    )\n",
    "    prediction = response.choices[0].message.content.strip().lower()\n",
    "    zero_shot_predictions.append(prediction)\n",
    "\n",
    "    print(prediction)\n",
    "\n",
    "    # wait 5 seconds to not get blocked by api\n",
    "    sleep(5)\n",
    "\n",
    "# Calculate and print the accuracies\n",
    "few_shot_accuracy = accuracy_score(labels, few_shot_predictions)\n",
    "zero_shot_accuracy = accuracy_score(labels, zero_shot_predictions)\n",
    "\n",
    "print(f\"Few-Shot Accuracy: {few_shot_accuracy * 100:.2f}%\")\n",
    "print(f\"Zero-Shot Accuracy: {zero_shot_accuracy * 100:.2f}%\")\n"
   ]
  },
  {
   "cell_type": "code",
   "execution_count": 25,
   "id": "5e1b53d5",
   "metadata": {},
   "outputs": [
    {
     "name": "stdout",
     "output_type": "stream",
     "text": [
      "positive.\n",
      "positive.\n",
      "positive.\n",
      "positive.\n",
      "positive.\n"
     ]
    }
   ],
   "source": [
    "for predicition in few_shot_predictions:\n",
    "    print(prediction)\n"
   ]
  },
  {
   "cell_type": "code",
   "execution_count": 26,
   "id": "e9d4a61d",
   "metadata": {},
   "outputs": [
    {
     "name": "stdout",
     "output_type": "stream",
     "text": [
      "positive.\n",
      "positive.\n",
      "positive.\n",
      "positive.\n",
      "positive.\n"
     ]
    }
   ],
   "source": [
    "for predicition in zero_shot_predictions:\n",
    "    print(prediction)"
   ]
  },
  {
   "cell_type": "code",
   "execution_count": 35,
   "id": "1213bac4",
   "metadata": {},
   "outputs": [
    {
     "data": {
      "text/plain": [
       "array([ 0.00459333,  0.00661013, -0.01592495, ...,  0.01266857,\n",
       "       -0.04537744,  0.01072002], shape=(1024,), dtype=float32)"
      ]
     },
     "execution_count": 35,
     "metadata": {},
     "output_type": "execute_result"
    }
   ],
   "source": [
    "from huggingface_hub import InferenceClient\n",
    "\n",
    "embedding_client = InferenceClient(\n",
    "    provider=\"hf-inference\",\n",
    "    api_key=hf_token,\n",
    ")\n",
    "\n",
    "embedding = embedding_client.feature_extraction(\n",
    "    \"Today is a sunny day and I will get some ice cream.\",\n",
    "    model=\"intfloat/multilingual-e5-large\",\n",
    ")\n",
    "\n",
    "embedding"
   ]
  },
  {
   "cell_type": "code",
   "execution_count": 44,
   "id": "415af7f0",
   "metadata": {},
   "outputs": [
    {
     "data": {
      "image/png": "[encoded data removed]",
      "text/plain": [
       "<Figure size 1000x800 with 1 Axes>"
      ]
     },
     "metadata": {},
     "output_type": "display_data"
    }
   ],
   "source": [
    "# visualise embedding in 2D\n",
    "import numpy as np\n",
    "import matplotlib.pyplot as plt\n",
    "from huggingface_hub import InferenceClient\n",
    "from sklearn.decomposition import PCA\n",
    "\n",
    "# Words to embed\n",
    "words = [\"food\", \"burger\", \"data\", \"science\", \"Laptop\", \"Python\",\"Berlin\", \"Charlottenburg\",\"Ketchup\"]\n",
    "embeddings = {}\n",
    "\n",
    "# Generate embeddings\n",
    "for word in words:\n",
    "    embeddings[word] = embedding_client.feature_extraction(\n",
    "        word,\n",
    "        model=\"intfloat/multilingual-e5-large\",\n",
    "    )\n",
    "\n",
    "# Prepare data for PCA\n",
    "all_vectors = np.array(list(embeddings.values()))\n",
    "pca = PCA(n_components=2)\n",
    "reduced_vectors = pca.fit_transform(all_vectors)\n",
    "\n",
    "# Plot the results\n",
    "plt.figure(figsize=(10, 8))\n",
    "for i, word in enumerate(embeddings.keys()):\n",
    "    x, y = reduced_vectors[i]\n",
    "    plt.scatter(x, y, marker='o', color='blue' )\n",
    "    plt.text(x + 0.01, y + 0.01, word, fontsize=12, color='black' if word != \"king - queen + female\" else 'red')\n",
    "\n",
    "plt.title(\"2D Projection of Word Embeddings\")\n",
    "plt.show()\n",
    "\n"
   ]
  }
 ],
 "metadata": {
  "kernelspec": {
   "display_name": ".venv",
   "language": "python",
   "name": "python3"
  },
  "language_info": {
   "codemirror_mode": {
    "name": "ipython",
    "version": 3
   },
   "file_extension": ".py",
   "mimetype": "text/x-python",
   "name": "python",
   "nbconvert_exporter": "python",
   "pygments_lexer": "ipython3",
   "version": "3.12.3"
  }
 },
 "nbformat": 4,
 "nbformat_minor": 5
}
